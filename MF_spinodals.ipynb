{
  "nbformat": 4,
  "nbformat_minor": 0,
  "metadata": {
    "colab": {
      "provenance": []
    },
    "kernelspec": {
      "name": "python3",
      "display_name": "Python 3"
    },
    "language_info": {
      "name": "python"
    }
  },
  "cells": [
    {
      "cell_type": "markdown",
      "source": [
        "This program plots spinodals for the Flory-Huggins-Potts framework.\n",
        "The structure of the program:\n",
        "1. Import all the relevant libraries.\n",
        "2. Define the `Phase` object. All relevant functions are in Cell [2].\n",
        "3. Enter all your inputs in the Cell [3].\n",
        "4. Execute the final cell to see the figure.\n"
      ],
      "metadata": {
        "id": "_EtjgwA_MnPJ"
      }
    },
    {
      "cell_type": "code",
      "execution_count": 1,
      "metadata": {
        "id": "9PTWap3jLN0f"
      },
      "outputs": [],
      "source": [
        "# import all the relevant libraries\n",
        "import numpy as np\n",
        "import matplotlib.pyplot as plt\n",
        "from scipy.optimize import fsolve\n",
        "import time"
      ]
    },
    {
      "cell_type": "code",
      "source": [
        "# relevant functions\n",
        "zmm   = lambda emma, emmn, pw, T: pw*np.exp (-1/T * emma, dtype=np.float128) + (1-pw)*np.exp (-1/T * emmn, dtype=np.float128)\n",
        "zms   = lambda emsa, emsn, pw, T: pw*np.exp (-1/T * emsa, dtype=np.float128) + (1-pw)*np.exp (-1/T * emsn, dtype=np.float128)\n",
        "zss   = lambda essa, essn, pw, T: pw*np.exp (-1/T * essa, dtype=np.float128) + (1-pw)*np.exp (-1/T * essn, dtype=np.float128)\n",
        "fmma  = lambda emma, emmn, pw, T: pw*np.exp (-1/T * emma, dtype=np.float128)/zmm(emma, emmn, pw, T)\n",
        "fmsa  = lambda emsa, emsn, pw, T: pw*np.exp (-1/T * emsa, dtype=np.float128)/zms(emsa, emsn, pw, T)\n",
        "fssa  = lambda essa, essn, pw, T: pw*np.exp (-1/T * essa, dtype=np.float128)/zss(essa, essn, pw, T)\n",
        "\n",
        "\n",
        "###############################################################\n",
        "# define the Phase object. Everything will be held inside this Class.\n",
        "class Phase:\n",
        "\n",
        "    def __init__ (self, param_list, N):\n",
        "        self.EMSA   = param_list[0]\n",
        "        self.EMSN   = param_list[1]\n",
        "        self.EMMA   = param_list[2]\n",
        "        self.EMMN   = param_list[3]\n",
        "        self.ESSA   = param_list[4]\n",
        "        self.ESSN   = param_list[5]\n",
        "        self.PV     = param_list[6]\n",
        "        self.PWMS   = param_list[7]\n",
        "        self.PWMM   = param_list[8]\n",
        "        self.PWSS   = param_list[9]\n",
        "        self.N      = N\n",
        "        return\n",
        "\n",
        "    def reset_params (self, param_list):\n",
        "        self.EMSA   = param_list[0]\n",
        "        self.EMSN   = param_list[1]\n",
        "        self.EMMA   = param_list[2]\n",
        "        self.EMMN   = param_list[3]\n",
        "        self.ESSA   = param_list[4]\n",
        "        self.ESSN   = param_list[5]\n",
        "        self.PV     = param_list[6]\n",
        "        self.PWMS   = param_list[7]\n",
        "        self.PWMM   = param_list[8]\n",
        "        self.PWSS   = param_list[9]\n",
        "        return\n",
        "\n",
        "    def print_params (self):\n",
        "        print (f\"The parameters of this curve are EMSA = {self.EMSA}, EMSN = {self.EMSN}, EMMA = {self.EMMA}, EMMN = {self.EMMN}, ESSA = {self.ESSA}, ESSN = {self.ESSN}, \\\n",
        "PV = {self.PV}, PWMS = {self.PWMS}, PWMM = {self.PWMM}, PWSS = {self.PWSS}\", flush=True)\n",
        "        return\n",
        "\n",
        "    def chi (self, T):\n",
        "        c = 24 * (self.PV * ( (fmsa (self.EMSA, self.EMSN, self.PWMS, T) * self.EMSA + (1 - fmsa (self.EMSA, self.EMSN, self.PWMS, T) ) * self.EMSN) - 1/2 * \\\n",
        "        ( (fmma (self.EMMA, self.EMMN, self.PWMM, T) * self.EMMA + (1-fmma (self.EMMA, self.EMMN, self.PWMM, T) ) * self.EMMN) + \\\n",
        "          (fssa (self.ESSA, self.ESSN, self.PWSS, T) * self.ESSA + (1-fssa (self.ESSA, self.ESSN, self.PWSS, T) ) * self.ESSN) ) )\n",
        "        + (1-self.PV) * (self.EMSN - 1/2 * (self.EMMN + self.ESSN) ) ) / T\n",
        "\n",
        "        return np.array(c, dtype=np.float128)\n",
        "\n",
        "    def spinodal (self, T):\n",
        "        p1 = -1/(4 * self.N * self.chi (T)) * (-1 + self.N - 2 * self.N * self.chi (T) - np.sqrt (-8 * self.N * self.chi (T) + (1 - self.N + 2 * self.N * self.chi (T) ) ** 2 ) )\n",
        "        p2 = -1/(4 * self.N * self.chi (T)) * (-1 + self.N - 2 * self.N * self.chi (T) + np.sqrt (-8 * self.N * self.chi (T) + (1 - self.N + 2 * self.N * self.chi (T) ) ** 2 ) )\n",
        "        return (np.array(p1, dtype=np.float128), np.array(p2, dtype=np.float128), T)\n",
        "\n",
        "    def delta_phi (self, T):\n",
        "        p1 = -1/(4 * self.N * self.chi (T)) * (-1 + self.N - 2 * self.N * self.chi (T) - np.sqrt (-8 * self.N * self.chi (T) + (1 - self.N + 2 * self.N * self.chi (T) ) ** 2 ) )\n",
        "        p2 = -1/(4 * self.N * self.chi (T)) * (-1 + self.N - 2 * self.N * self.chi (T) + np.sqrt (-8 * self.N * self.chi (T) + (1 - self.N + 2 * self.N * self.chi (T) ) ** 2 ) )\n",
        "        return p1 - p2\n",
        "\n",
        "\n",
        "# end of class Phase\n",
        "###############################################################"
      ],
      "metadata": {
        "id": "-GsSwskhLQGm"
      },
      "execution_count": 2,
      "outputs": []
    },
    {
      "cell_type": "code",
      "source": [
        "#%%%%%%%%%%%%%%%%%%%%%%%%%%%%%%%%%%%%%%%%%%%%\n",
        "#~~~~~~~~ ENTER YOUR INPUTS HERE ~~~~~~~~~~~~\n",
        "#%%%%%%%%%%%%%%%%%%%%%%%%%%%%%%%%%%%%%%%%%%%%\n",
        "EMSA = -1            # E_MS (aligned)\n",
        "EMSN = 0             # E_MS (not aligned)\n",
        "EMMA = -1            # E_MM (aligned)\n",
        "EMMN = -1            # E_MM (not aligned)\n",
        "ESSA = 0             # E_SS (aligned)\n",
        "ESSN = 0             # E_SS (not aligned)\n",
        "PV   = 1             # P_V\n",
        "PW   = 0.25          # P_Omega\n",
        "DOP  = 32            # degree of polymerization\n",
        "rgba_color = \"coral\" # color of spinodal curve"
      ],
      "metadata": {
        "id": "N4Lvb6ldLT5Y"
      },
      "execution_count": 3,
      "outputs": []
    },
    {
      "cell_type": "code",
      "source": [
        "# start the timer\n",
        "start = time.time()\n",
        "lsize = 12\n",
        "fdict = {'color':  'black',\n",
        "    'weight': 'normal',\n",
        "    'size': lsize}\n",
        "\n",
        "# set up the inputs for the Phase object\n",
        "energy_param_list  = [EMSA, EMSN, EMMA, EMMN, ESSA, ESSN, PV, PW, PW, PW]\n",
        "\n",
        "# define the phase object\n",
        "PhaseDiag          = Phase (energy_param_list, DOP)\n",
        "\n",
        "# set up the temperature vector\n",
        "T                  = np.hstack((np.logspace (-3, np.log10(30), int(1e+7) ), np.linspace (0.05,0.15, int(1e+6)), np.linspace (0.1, 1.0, int(1e+6) ) ) )\n",
        "T                  = np.sort (T, kind=\"mergesort\")\n",
        "\n",
        "# start setting up the figures from matplotlib\n",
        "plt.figure(figsize=(5,5), constrained_layout=True)\n",
        "plt.tick_params(direction='in', bottom=True, top=True, left=True, right=True, which='both')\n",
        "plt.tick_params(axis='x', labelsize=lsize, pad=5)\n",
        "plt.tick_params(axis='y', labelsize=lsize)\n",
        "\n",
        "# just print things out\n",
        "PhaseDiag.print_params()\n",
        "\n",
        "# get the spinodal\n",
        "\n",
        "# section for the first arm of the spinodal...\n",
        "spinodal = PhaseDiag.spinodal (T)\n",
        "T1       = spinodal[2][spinodal[0] < 1]\n",
        "arm1     = spinodal[0][spinodal[0] < 1]\n",
        "T1       = T1  [arm1 > 0]\n",
        "arm1     = arm1[arm1 > 0]\n",
        "plt.plot(arm1, T1, lw=1.0, markersize=0, c=rgba_color, solid_capstyle=\"round\",label=\"_nolabel_\")\n",
        "\n",
        "# section for the second arm of the spinodal...\n",
        "T1       = spinodal[2][spinodal[1] < 1]\n",
        "arm1     = spinodal[1][spinodal[1] < 1]\n",
        "T1       = T1  [arm1 > 0]\n",
        "arm1     = arm1[arm1 > 0]\n",
        "plt.plot  (arm1, T1, lw=1.0, markersize=0, color=rgba_color, solid_capstyle=\"round\", label=\"spinodal\")\n",
        "\n",
        "# making the plots prettier...\n",
        "plt.legend (loc=\"upper right\", fontsize=12)\n",
        "plt.yscale (\"log\")\n",
        "plt.ylim (1e-3, 50)\n",
        "plt.xlim (0, 1)\n",
        "\n",
        "plt.yticks ([0.001, 0.01, 0.1, 1.0, 10, 50])\n",
        "plt.xticks ([0, 0.2, 0.4, 0.6, 0.8, 1.0])\n",
        "\n",
        "plt.show()\n",
        "\n",
        "# print how long this computation took\n",
        "stop = time.time()\n",
        "print (f\"Elapsed time is {stop-start} seconds.\", flush=True)\n"
      ],
      "metadata": {
        "colab": {
          "base_uri": "https://localhost:8080/",
          "height": 655
        },
        "id": "HUlUR9RKLXC8",
        "outputId": "d015a5e5-82e2-4ee3-bd17-a54ac35f190f"
      },
      "execution_count": 4,
      "outputs": [
        {
          "output_type": "stream",
          "name": "stdout",
          "text": [
            "The parameters of this curve are EMSA = -1, EMSN = 0, EMMA = -1, EMMN = -1, ESSA = 0, ESSN = 0, PV = 1, PWMS = 0.25, PWMM = 0.25, PWSS = 0.25\n"
          ]
        },
        {
          "output_type": "stream",
          "name": "stderr",
          "text": [
            "<ipython-input-2-2b94e58997e2>:55: RuntimeWarning: invalid value encountered in sqrt\n",
            "  p1 = -1/(4 * self.N * self.chi (T)) * (-1 + self.N - 2 * self.N * self.chi (T) - np.sqrt (-8 * self.N * self.chi (T) + (1 - self.N + 2 * self.N * self.chi (T) ) ** 2 ) )\n",
            "<ipython-input-2-2b94e58997e2>:56: RuntimeWarning: invalid value encountered in sqrt\n",
            "  p2 = -1/(4 * self.N * self.chi (T)) * (-1 + self.N - 2 * self.N * self.chi (T) + np.sqrt (-8 * self.N * self.chi (T) + (1 - self.N + 2 * self.N * self.chi (T) ) ** 2 ) )\n"
          ]
        },
        {
          "output_type": "display_data",
          "data": {
            "text/plain": [
              "<Figure size 500x500 with 1 Axes>"
            ],
            "image/png": "[encoded data removed]"
          },
          "metadata": {}
        },
        {
          "output_type": "stream",
          "name": "stdout",
          "text": [
            "Elapsed time is 148.63868474960327 seconds.\n"
          ]
        }
      ]
    },
    {
      "cell_type": "code",
      "source": [],
      "metadata": {
        "id": "M-1GlHYBLb9o"
      },
      "execution_count": 4,
      "outputs": []
    }
  ]
}